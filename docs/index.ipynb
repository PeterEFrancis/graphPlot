{
 "cells": [
  {
   "cell_type": "markdown",
   "metadata": {},
   "source": [
    "[< GitHub Repo](https://github.com/PeterEFrancis/graphPlot)\n",
    "\n",
    "\n",
    "[graphPlot Docs Home](index.html)\n",
    "> - [Deriving a Computational Model](derivation.html)\n",
    ">   - [A Motivation In Graph Theory](derivation.html#A-Motivation-In-Graph-Theory)\n",
    ">   - [Intuitive Behavior](derivation.html#Intuitive-Behavior)\n",
    ">   - [Moving the Nodes with Newton's 2nd Law](derivation.html#Moving-the-Nodes-with-Newton's-2nd-Law)\n",
    ">   - [Finding the Net Force on a Node](derivation.html#Finding-the-Net-Force-on-a-Node)\n",
    ">   - [The Master Equation](derivation.html#The-Master-Equation)\n",
    "> - [Simple Examples](examples.html)\n",
    ">   - [SpringBoard](examples.html#SpringBoard)\n",
    ">   - [SpringBoard Animation](examples.html#SpringBoard-Animation)\n",
    ">   - [Graph](examples.html#Graph)\n",
    ">   - [Digraph](examples.html#Digraph-graph-type)\n",
    "> - [Complex Examples](complex-examples.html)\n",
    ">   - [The Robe Bridge](complex-examples.html#the-rope-bridge)\n",
    ">   - [The Grid](complex-examples.html#the-grid)\n",
    ">   - [A Large Bipartite Graph](complex-examples.html#a-large-bipartite-graph)\n",
    "____\n",
    "\n",
    "\n",
    "# graphPlot\n",
    "\n",
    "Here we model graphs as systems of charged particles, connected by springs, in order to determine \"optimal\" plotting positions for nodes. \n",
    "\n",
    "![](img/examples.png)"
   ]
  },
  {
   "cell_type": "markdown",
   "metadata": {},
   "source": [
    "After installing, import the graphPlot module into your python environment\n",
    "\n",
    "```python\n",
    "from graphPlot import *\n",
    "```\n",
    "\n",
    "View the docString comments for each function with the a `help()` call:\n",
    "\n",
    "```python\n",
    "help(graphPlot)\n",
    "```"
   ]
  }
 ],
 "metadata": {
  "kernelspec": {
   "display_name": "Python 3",
   "language": "python",
   "name": "python3"
  },
  "language_info": {
   "codemirror_mode": {
    "name": "ipython",
    "version": 3
   },
   "file_extension": ".py",
   "mimetype": "text/x-python",
   "name": "python",
   "nbconvert_exporter": "python",
   "pygments_lexer": "ipython3",
   "version": "3.7.4"
  }
 },
 "nbformat": 4,
 "nbformat_minor": 4
}
