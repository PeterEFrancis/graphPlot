{
 "cells": [
  {
   "cell_type": "markdown",
   "metadata": {},
   "source": [
    "# graphPlot\n",
    "---\n",
    "##### Table of contents\n",
    "- [Mathematical Background](#Mathematical-Background)\n",
    "- [Examples](#Examples)\n",
    "- [Class definitions](#Class-Definitions)"
   ]
  },
  {
   "cell_type": "markdown",
   "metadata": {},
   "source": [
    "### Mathematical Background\n",
    "\n",
    "Here we attempt to model graphs as systems of charged particles, connected by springs, in order to determine \"optimal\" plotting positions for nodes. We will do a time-step approximation of the movement of the nodes, based on spring and electrostatic forces. We will assume that the graph has no self-loops.\n",
    "\n",
    "Let each spring (graph connection) have unstretched length $1$ and spring constant $k>0$. Let each node $A$ have mass and charge $\\deg(A)$, and let the electric field constant be $Q<0$.\n",
    "\n",
    "So, for every node $A$, the force due to a spring connecting node $A$ to $B$ is\n",
    "$$k (1-\\|\\vec{AB}\\|)\\frac{\\vec{AB}}{\\|\\vec{AB}\\|}$$\n",
    "and the electrostatic force between node $A$ and any other node $B$ is\n",
    "$$Q\\frac{\\deg(A)\\deg(B)}{\\|\\vec{AB}\\|^2}\\frac{\\vec{AB}}{\\|\\vec{AB}\\|}.$$\n",
    "\n",
    "We will also add a universal attractive force to all of the nodes from the origin,\n",
    "$$\\frac{-\\vec{A}\\deg(A)*0.001}{|A||}$$\n",
    "\n",
    "Since each node $A$ has mass $\\deg(A)$, we can relate the net force on a node to a time-step approximation of accelaration in order to approximate the movement of the nodes:\n",
    "$$\\frac{\\Delta \\vec{d}}{\\Delta t^2}\\deg(A)\\approx m\\vec{a}= \\vec{F}\\implies \\Delta \\vec{d} \\approx \\frac{\\Delta t^2}{\\deg(A)}\\vec{F}.$$\n",
    "\n",
    "Given any node $A$, let $\\mathcal{X}$ denote the set of all nodes not equal to $A$, and let $\\mathcal{Y}\\subseteq\\mathcal{X}$ denote the set of nodes connected to $A$. Then, for the time step $\\Delta t$, the displacement of node $A$ is\n",
    "$$\\frac{-\\vec{A}\\deg(A)*0.001}{|A||} + \\sum_{B\\in\\mathcal{Y}}\\frac{\\Delta t^2k (\\|\\vec{AB}\\|-1)}{\\deg(A)}\\frac{\\vec{AB}}{\\|\\vec{AB}\\|}+\\sum_{B\\in\\mathcal{X}}\\frac{Q\\Delta t^2\\deg(B)}{\\|\\vec{AB}\\|^2}\\frac{\\vec{AB}}{\\|\\vec{AB}\\|}.$$\n",
    "\n"
   ]
  },
  {
   "cell_type": "markdown",
   "metadata": {},
   "source": [
    "# Examples"
   ]
  },
  {
   "cell_type": "code",
   "execution_count": null,
   "metadata": {},
   "outputs": [],
   "source": []
  }
 ],
 "metadata": {
  "kernelspec": {
   "display_name": "Python 3",
   "language": "python",
   "name": "python3"
  },
  "language_info": {
   "codemirror_mode": {
    "name": "ipython",
    "version": 3
   },
   "file_extension": ".py",
   "mimetype": "text/x-python",
   "name": "python",
   "nbconvert_exporter": "python",
   "pygments_lexer": "ipython3",
   "version": "3.7.4"
  }
 },
 "nbformat": 4,
 "nbformat_minor": 2
}
